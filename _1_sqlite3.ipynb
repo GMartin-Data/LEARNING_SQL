{
 "cells": [
  {
   "cell_type": "markdown",
   "metadata": {},
   "source": [
    "This Notebook is devoted to learn basic SQL queries involving sqlite3"
   ]
  },
  {
   "cell_type": "code",
   "execution_count": 1,
   "metadata": {},
   "outputs": [],
   "source": [
    "import sqlite3"
   ]
  },
  {
   "cell_type": "markdown",
   "metadata": {},
   "source": [
    "# First Basic Example"
   ]
  },
  {
   "cell_type": "markdown",
   "metadata": {},
   "source": [
    "This example will focus on creating two simple tables linked with a foreign key."
   ]
  },
  {
   "cell_type": "code",
   "execution_count": 2,
   "metadata": {},
   "outputs": [],
   "source": [
    "def create_tables_and_insert_data():\n",
    "    # Connect to the SQLite database using a context manager\n",
    "    with sqlite3.connect('literature.db') as conn:\n",
    "        cursor = conn.cursor()\n",
    "        \n",
    "        # Create the Authors table\n",
    "        cursor.execute('''\n",
    "            CREATE TABLE IF NOT EXISTS Authors (\n",
    "                AuthorID INTEGER PRIMARY KEY AUTOINCREMENT,\n",
    "                Name TEXT NOT NULL\n",
    "            );\n",
    "        ''')\n",
    "        \n",
    "        # Create the Books table with a foreign key reference to Authors\n",
    "        cursor.execute('''\n",
    "            CREATE TABLE IF NOT EXISTS Books (\n",
    "                BookID INTEGER PRIMARY KEY AUTOINCREMENT,\n",
    "                Title TEXT NOT NULL,\n",
    "                AuthorID INTEGER,\n",
    "                FOREIGN KEY (AuthorID) REFERENCES Authors(AuthorID)\n",
    "            );\n",
    "        ''')\n",
    "\n",
    "        # Insert data into Authors\n",
    "        authors = [\n",
    "            ('Jane Austen',),\n",
    "            ('Charles Dickens',),\n",
    "            ('Mark Twain',),\n",
    "            ('Virginia Woolf',),\n",
    "            ('George Orwell',)\n",
    "        ]\n",
    "        cursor.executemany(\"INSERT INTO Authors (Name) VALUES (?)\", authors)\n",
    "        \n",
    "        # Insert data into Books\n",
    "        books = [\n",
    "            ('Pride and Prejudice', 1),\n",
    "            ('Sense and Sensibility', 1),\n",
    "            ('David Copperfield', 2),\n",
    "            ('Great Expectations', 2),\n",
    "            ('The Adventures of Tom Sawyer', 3),\n",
    "            ('Adventures of Huckleberry Finn', 3),\n",
    "            ('Mrs Dalloway', 4),\n",
    "            ('To the Lighthouse', 4),\n",
    "            ('1984', 5),\n",
    "            ('Animal Farm', 5)\n",
    "        ]\n",
    "        cursor.executemany(\"INSERT INTO Books (Title, AuthorID) VALUES (?, ?)\", books)\n",
    "\n",
    "        # Commit is automatically managed by the context manager\n",
    "        # Let's query and print some data to confirm\n",
    "        cursor.execute(\"SELECT * FROM Books\")\n",
    "        print(cursor.fetchall())\n",
    "\n",
    "    # Note: Cursors and connections are automatically closed at the end of the with block"
   ]
  },
  {
   "cell_type": "code",
   "execution_count": 3,
   "metadata": {},
   "outputs": [
    {
     "name": "stdout",
     "output_type": "stream",
     "text": [
      "[(1, 'Pride and Prejudice', 1), (2, 'Sense and Sensibility', 1), (3, 'David Copperfield', 2), (4, 'Great Expectations', 2), (5, 'The Adventures of Tom Sawyer', 3), (6, 'Adventures of Huckleberry Finn', 3), (7, 'Mrs Dalloway', 4), (8, 'To the Lighthouse', 4), (9, '1984', 5), (10, 'Animal Farm', 5)]\n"
     ]
    }
   ],
   "source": [
    "create_tables_and_insert_data()"
   ]
  },
  {
   "cell_type": "markdown",
   "metadata": {},
   "source": [
    "## Data Integrity"
   ]
  },
  {
   "cell_type": "markdown",
   "metadata": {},
   "source": [
    "The way we defined data prevents us for doing some things, preserving the data integrity, for example..."
   ]
  },
  {
   "cell_type": "markdown",
   "metadata": {},
   "source": [
    "### First Preventing: `INSERT`"
   ]
  },
  {
   "cell_type": "markdown",
   "metadata": {},
   "source": [
    "Any attempt to `INSERT` a book with an `AuthorID` that doesn't exist in the `Authors` table will result in an error, thus maintaining referential integrity."
   ]
  },
  {
   "cell_type": "code",
   "execution_count": 4,
   "metadata": {},
   "outputs": [],
   "source": [
    "with sqlite3.connect('literature.db') as conn:\n",
    "    cursor = conn.cursor()\n",
    "    cursor.execute(\"\"\"\n",
    "                   INSERT INTO Books (Title, AuthorID)\n",
    "                   VALUES ('Candide', 42)\n",
    "                   \"\"\")"
   ]
  },
  {
   "cell_type": "markdown",
   "metadata": {},
   "source": [
    "### Second Preventing: `DELETE`"
   ]
  },
  {
   "cell_type": "markdown",
   "metadata": {},
   "source": [
    "You cannot delete an author from the `Authors` table if there are still books in the `Books` table associated with that author. (**unless specific cascading rules are set up**)."
   ]
  },
  {
   "cell_type": "code",
   "execution_count": 5,
   "metadata": {},
   "outputs": [],
   "source": [
    "with sqlite3.connect('literature.db') as conn:\n",
    "    cursor = conn.cursor()\n",
    "    cursor.execute(\"\"\"\n",
    "                   DELETE FROM Authors\n",
    "                   WHERE AuthorID = 1\n",
    "                   \"\"\")"
   ]
  },
  {
   "cell_type": "markdown",
   "metadata": {},
   "source": [
    "### WARNING WITH sqlite3"
   ]
  },
  {
   "cell_type": "markdown",
   "metadata": {},
   "source": [
    "☝️ Well, in fact, you noticed that nothing at all was prevented!\n",
    "\n",
    "It's because, **in SQLite, you have to enforce the foreign key constraints**.\n",
    "\n",
    "We will solve this issue but, first, let's do some cleaning!"
   ]
  },
  {
   "cell_type": "markdown",
   "metadata": {},
   "source": [
    "# Methods for Cleaning"
   ]
  },
  {
   "cell_type": "markdown",
   "metadata": {},
   "source": [
    "## Drop Tables"
   ]
  },
  {
   "cell_type": "markdown",
   "metadata": {},
   "source": [
    "The more *radical* method."
   ]
  },
  {
   "cell_type": "code",
   "execution_count": 5,
   "metadata": {},
   "outputs": [],
   "source": [
    "def drop_tables():\n",
    "    # Connect to the SQLite database using a context manager\n",
    "    with sqlite3.connect('literature.db') as conn:\n",
    "        cursor = conn.cursor()\n",
    "\n",
    "        # Drop tables if they exist\n",
    "        cursor.execute(\"DROP TABLE IF EXISTS Authors\")\n",
    "        cursor.execute(\"DROP TABLE IF EXISTS Books\")\n",
    "\n",
    "        print(\"All tables have been dropped and the database is clean.\")"
   ]
  },
  {
   "cell_type": "code",
   "execution_count": 6,
   "metadata": {},
   "outputs": [
    {
     "name": "stdout",
     "output_type": "stream",
     "text": [
      "All tables have been dropped and the database is clean.\n"
     ]
    }
   ],
   "source": [
    "drop_tables()"
   ]
  },
  {
   "attachments": {
    "image.png": {
     "image/png": "[encoded data removed]"
    }
   },
   "cell_type": "markdown",
   "metadata": {},
   "source": [
    "Inspecting the database file with the VSCode extension, you will somehow see that it remains something.\n",
    "\n",
    "![image.png](attachment:image.png)\n",
    "\n",
    "This corresponds to the `AUTOINCREMENT` of the primary keys.\n"
   ]
  },
  {
   "cell_type": "code",
   "execution_count": 7,
   "metadata": {},
   "outputs": [
    {
     "name": "stdout",
     "output_type": "stream",
     "text": [
      "[(1, 'Pride and Prejudice', 1), (2, 'Sense and Sensibility', 1), (3, 'David Copperfield', 2), (4, 'Great Expectations', 2), (5, 'The Adventures of Tom Sawyer', 3), (6, 'Adventures of Huckleberry Finn', 3), (7, 'Mrs Dalloway', 4), (8, 'To the Lighthouse', 4), (9, '1984', 5), (10, 'Animal Farm', 5)]\n"
     ]
    }
   ],
   "source": [
    "create_tables_and_insert_data()"
   ]
  },
  {
   "cell_type": "markdown",
   "metadata": {},
   "source": [
    "## Delete Data From Tables"
   ]
  },
  {
   "cell_type": "code",
   "execution_count": 8,
   "metadata": {},
   "outputs": [],
   "source": [
    "def delete_data():\n",
    "   # Connect to the SQLite database using a context manager\n",
    "    with sqlite3.connect('literature.db') as conn:\n",
    "        cursor = conn.cursor()\n",
    "\n",
    "        # Delete all data from tables\n",
    "        cursor.execute(\"DELETE FROM Authors\")\n",
    "        cursor.execute(\"DELETE FROM Books\")\n",
    "\n",
    "        conn.commit()\n",
    "\n",
    "        print(\"All data has been deleted from the tables, but the table structures remain intact.\")"
   ]
  },
  {
   "cell_type": "code",
   "execution_count": 9,
   "metadata": {},
   "outputs": [
    {
     "name": "stdout",
     "output_type": "stream",
     "text": [
      "All data has been deleted from the tables, but the table structures remain intact.\n"
     ]
    }
   ],
   "source": [
    "delete_data()"
   ]
  },
  {
   "attachments": {
    "image.png": {
     "image/png": "[encoded data removed]"
    }
   },
   "cell_type": "markdown",
   "metadata": {},
   "source": [
    "And indeed...\n",
    "\n",
    "![image.png](attachment:image.png)"
   ]
  },
  {
   "cell_type": "markdown",
   "metadata": {},
   "source": [
    "👉 But then, something \"funny\" will happen..."
   ]
  },
  {
   "cell_type": "code",
   "execution_count": 10,
   "metadata": {},
   "outputs": [
    {
     "name": "stdout",
     "output_type": "stream",
     "text": [
      "[(11, 'Pride and Prejudice', 1), (12, 'Sense and Sensibility', 1), (13, 'David Copperfield', 2), (14, 'Great Expectations', 2), (15, 'The Adventures of Tom Sawyer', 3), (16, 'Adventures of Huckleberry Finn', 3), (17, 'Mrs Dalloway', 4), (18, 'To the Lighthouse', 4), (19, '1984', 5), (20, 'Animal Farm', 5)]\n"
     ]
    }
   ],
   "source": [
    "create_tables_and_insert_data()"
   ]
  },
  {
   "cell_type": "markdown",
   "metadata": {},
   "source": [
    "You noticed that the `BookID` began from 11 to 20.\n",
    "\n",
    "This is because **we didn't  reset the auto-increment for primary keys**."
   ]
  },
  {
   "cell_type": "code",
   "execution_count": 11,
   "metadata": {},
   "outputs": [],
   "source": [
    "def delete_data_and_reset_autoincrement():\n",
    "    # Connect to the SQLite database using a context manager\n",
    "    with sqlite3.connect('literature.db') as conn:\n",
    "        cursor = conn.cursor()\n",
    "\n",
    "        # Delete all data from tables\n",
    "        cursor.execute(\"DELETE FROM Authors\")\n",
    "        cursor.execute(\"DELETE FROM Books\")\n",
    "\n",
    "        # Optionally reset the auto-increment primary keys\n",
    "        cursor.execute(\"DELETE FROM sqlite_sequence WHERE name='Authors'\")\n",
    "        cursor.execute(\"DELETE FROM sqlite_sequence WHERE name='Books'\")\n",
    "\n",
    "        conn.commit()\n",
    "\n",
    "        print(\"All data has been deleted from the tables, but the table structures remain intact.\")\n"
   ]
  },
  {
   "cell_type": "code",
   "execution_count": 12,
   "metadata": {},
   "outputs": [
    {
     "name": "stdout",
     "output_type": "stream",
     "text": [
      "All data has been deleted from the tables, but the table structures remain intact.\n"
     ]
    }
   ],
   "source": [
    "delete_data_and_reset_autoincrement()"
   ]
  },
  {
   "cell_type": "code",
   "execution_count": 13,
   "metadata": {},
   "outputs": [
    {
     "name": "stdout",
     "output_type": "stream",
     "text": [
      "[(1, 'Pride and Prejudice', 1), (2, 'Sense and Sensibility', 1), (3, 'David Copperfield', 2), (4, 'Great Expectations', 2), (5, 'The Adventures of Tom Sawyer', 3), (6, 'Adventures of Huckleberry Finn', 3), (7, 'Mrs Dalloway', 4), (8, 'To the Lighthouse', 4), (9, '1984', 5), (10, 'Animal Farm', 5)]\n"
     ]
    }
   ],
   "source": [
    "create_tables_and_insert_data()"
   ]
  },
  {
   "cell_type": "markdown",
   "metadata": {},
   "source": [
    "## Re-create Tables"
   ]
  },
  {
   "cell_type": "markdown",
   "metadata": {},
   "source": [
    "Sometimes, it's useful to drop and then recreate tables to ensure the database is in a clean and predictable state.\n",
    "\n",
    "This approach is often used in testing environment and during development."
   ]
  },
  {
   "cell_type": "code",
   "execution_count": 14,
   "metadata": {},
   "outputs": [],
   "source": [
    "def recreate_tables(conn):\n",
    "    cursor = conn.cursor()\n",
    "    # Drop tables if they exist\n",
    "    cursor.execute(\"DROP TABLE IF EXISTS Authors\")\n",
    "    cursor.execute(\"DROP TABLE IF EXISTS Books\")\n",
    "\n",
    "    # Recreate tables\n",
    "    cursor.execute('''\n",
    "        CREATE TABLE Authors (\n",
    "            AuthorID INTEGER PRIMARY KEY AUTOINCREMENT,\n",
    "            Name TEXT NOT NULL UNIQUE\n",
    "        );\n",
    "    ''')\n",
    "    cursor.execute('''\n",
    "        CREATE TABLE Books (\n",
    "            BookID INTEGER PRIMARY KEY AUTOINCREMENT,\n",
    "            Title TEXT NOT NULL,\n",
    "            AuthorID INTEGER,\n",
    "            FOREIGN KEY (AuthorID) REFERENCES Authors(AuthorID)\n",
    "        );\n",
    "    ''')\n",
    "    print(\"Tables have been dropped and recreated.\")\n"
   ]
  },
  {
   "cell_type": "code",
   "execution_count": 15,
   "metadata": {},
   "outputs": [
    {
     "name": "stdout",
     "output_type": "stream",
     "text": [
      "Tables have been dropped and recreated.\n"
     ]
    }
   ],
   "source": [
    "# Connect to the SQLite database using a context manager\n",
    "with sqlite3.connect('literature.db') as conn:\n",
    "    recreate_tables(conn)"
   ]
  },
  {
   "cell_type": "markdown",
   "metadata": {},
   "source": [
    "# Managing Duplicates"
   ]
  },
  {
   "cell_type": "markdown",
   "metadata": {},
   "source": [
    "Unfortunately, this first sample example doesn't include **duplicates management**, which can be easily checked with running several times `create_tables_and_insert_data`.\n",
    "\n",
    "We will have to prevent that in the next section, but beforehand, let's perform some cleaning."
   ]
  },
  {
   "cell_type": "markdown",
   "metadata": {},
   "source": []
  }
 ],
 "metadata": {
  "kernelspec": {
   "display_name": ".venv",
   "language": "python",
   "name": "python3"
  },
  "language_info": {
   "codemirror_mode": {
    "name": "ipython",
    "version": 3
   },
   "file_extension": ".py",
   "mimetype": "text/x-python",
   "name": "python",
   "nbconvert_exporter": "python",
   "pygments_lexer": "ipython3",
   "version": "3.11.2"
  }
 },
 "nbformat": 4,
 "nbformat_minor": 2
}

{
 "cells": [
  {
   "cell_type": "markdown",
   "metadata": {},
   "source": [
    "# Imports"
   ]
  },
  {
   "cell_type": "markdown",
   "metadata": {},
   "source": [
    "For the sake of simplicity, and to help the reader focus on what's needed in each section, imports won't be grouped on top but detailed as soon as they appear to be useful."
   ]
  },
  {
   "cell_type": "markdown",
   "metadata": {},
   "source": [
    "# Introduction"
   ]
  },
  {
   "cell_type": "markdown",
   "metadata": {},
   "source": [
    "Within this notebook, we'll go further with a more complicated \"commercial-type\" database.\n",
    "\n",
    "This will allow us to:\n",
    "- manipulate more complex data types, and see how it can be handled in SQLAlchemy,\n",
    "- perform more complex queries, both in plain SQL or with the ORM, these ways being implemented in SQLAlchemy,\n",
    "- discover how to populate this kind of database thanks to the `Faker` library."
   ]
  },
  {
   "cell_type": "markdown",
   "metadata": {},
   "source": [
    "# Models"
   ]
  },
  {
   "cell_type": "markdown",
   "metadata": {},
   "source": [
    "## Imports"
   ]
  },
  {
   "cell_type": "code",
   "execution_count": 1,
   "metadata": {},
   "outputs": [],
   "source": [
    "from datetime import datetime\n",
    "\n",
    "from sqlalchemy import create_engine, Column, Integer, String, Float, DateTime, ForeignKey, Table\n",
    "from sqlalchemy.orm import declarative_base, relationship, sessionmaker"
   ]
  },
  {
   "cell_type": "markdown",
   "metadata": {},
   "source": [
    "## Definition"
   ]
  },
  {
   "cell_type": "code",
   "execution_count": 2,
   "metadata": {},
   "outputs": [],
   "source": [
    "# Note that auto-increment is the default behavior for integer primary keys\n",
    "\n",
    "Base = declarative_base()\n",
    "\n",
    "class Client(Base):\n",
    "    \"\"\"A basic object representing `clients` table\"\"\"\n",
    "    __tablename__ = \"clients\"\n",
    "    # Fields\n",
    "    id = Column(Integer, primary_key=True)\n",
    "    name = Column(String)\n",
    "    email = Column(String)\n",
    "    # Relationship to orders (one to many)\n",
    "    # One client may have many orders\n",
    "    orders = relationship(\"Order\", back_populates=\"client\")\n",
    "    \n",
    "\n",
    "class Product(Base):\n",
    "    \"\"\"A basic object representing `products` table\"\"\"\n",
    "    __tablename__ = \"products\"\n",
    "    # Fields\n",
    "    id = Column(Integer, primary_key=True)\n",
    "    name = Column(String)\n",
    "    price = Column(Float)\n",
    "    # Relationship to order_details (one to many)\n",
    "    # One product may have many order_details\n",
    "    order_details = relationship(\"OrderDetail\", back_populates=\"product\")\n",
    "    \n",
    "    \n",
    "class Order(Base):\n",
    "    \"\"\"A basic object representing `orders` table\"\"\"\n",
    "    __tablename__ = \"orders\"\n",
    "    # Fields\n",
    "    id = Column(Integer, primary_key=True)\n",
    "    client_id = Column(Integer, ForeignKey(\"clients.id\"))\n",
    "    date = Column(DateTime, default=datetime.utcnow)\n",
    "    # Relationships\n",
    "    # With clients (many to one): one client may have many orders\n",
    "    client = relationship(\"Client\", back_populates=\"orders\")\n",
    "    # With order_details (one to many): one order may have many order_details\n",
    "    order_details = relationship(\"OrderDetail\", back_populates=\"order\")\n",
    "    \n",
    "\n",
    "class OrderDetail(Base):\n",
    "    \"\"\"An object figuring an association table between `orders` and `products`\"\"\"\n",
    "    __tablename__ = \"order_details\"\n",
    "    # Fields\n",
    "    id = Column(Integer, primary_key=True)\n",
    "    order_id = Column(Integer, ForeignKey(\"orders.id\"))\n",
    "    product_id = Column(Integer, ForeignKey(\"products.id\"))\n",
    "    quantity = Column(Integer)\n",
    "    # Relationships\n",
    "    # With order (many to one): one order may have many order_details\n",
    "    order = relationship(\"Order\", back_populates=\"order_details\")\n",
    "    # With product (many to one): one product may have many order_details\n",
    "    product = relationship(\"Product\", back_populates=\"order_details\")"
   ]
  },
  {
   "cell_type": "markdown",
   "metadata": {},
   "source": [
    "## Creation"
   ]
  },
  {
   "cell_type": "code",
   "execution_count": 3,
   "metadata": {},
   "outputs": [],
   "source": [
    "# Create an engine that stores the data in the local directory's commercial.db\n",
    "engine = create_engine('sqlite:///commercial.db', echo=True)"
   ]
  },
  {
   "cell_type": "code",
   "execution_count": 4,
   "metadata": {},
   "outputs": [
    {
     "name": "stdout",
     "output_type": "stream",
     "text": [
      "2024-05-12 17:15:38,896 INFO sqlalchemy.engine.Engine BEGIN (implicit)\n",
      "2024-05-12 17:15:38,899 INFO sqlalchemy.engine.Engine PRAGMA main.table_info(\"clients\")\n",
      "2024-05-12 17:15:38,900 INFO sqlalchemy.engine.Engine [raw sql] ()\n",
      "2024-05-12 17:15:38,901 INFO sqlalchemy.engine.Engine PRAGMA temp.table_info(\"clients\")\n",
      "2024-05-12 17:15:38,901 INFO sqlalchemy.engine.Engine [raw sql] ()\n",
      "2024-05-12 17:15:38,902 INFO sqlalchemy.engine.Engine PRAGMA main.table_info(\"products\")\n",
      "2024-05-12 17:15:38,903 INFO sqlalchemy.engine.Engine [raw sql] ()\n",
      "2024-05-12 17:15:38,903 INFO sqlalchemy.engine.Engine PRAGMA temp.table_info(\"products\")\n",
      "2024-05-12 17:15:38,904 INFO sqlalchemy.engine.Engine [raw sql] ()\n",
      "2024-05-12 17:15:38,905 INFO sqlalchemy.engine.Engine PRAGMA main.table_info(\"orders\")\n",
      "2024-05-12 17:15:38,906 INFO sqlalchemy.engine.Engine [raw sql] ()\n",
      "2024-05-12 17:15:38,907 INFO sqlalchemy.engine.Engine PRAGMA temp.table_info(\"orders\")\n",
      "2024-05-12 17:15:38,908 INFO sqlalchemy.engine.Engine [raw sql] ()\n",
      "2024-05-12 17:15:38,909 INFO sqlalchemy.engine.Engine PRAGMA main.table_info(\"order_details\")\n",
      "2024-05-12 17:15:38,909 INFO sqlalchemy.engine.Engine [raw sql] ()\n",
      "2024-05-12 17:15:38,910 INFO sqlalchemy.engine.Engine PRAGMA temp.table_info(\"order_details\")\n",
      "2024-05-12 17:15:38,911 INFO sqlalchemy.engine.Engine [raw sql] ()\n",
      "2024-05-12 17:15:38,912 INFO sqlalchemy.engine.Engine \n",
      "CREATE TABLE clients (\n",
      "\tid INTEGER NOT NULL, \n",
      "\tname VARCHAR, \n",
      "\temail VARCHAR, \n",
      "\tPRIMARY KEY (id)\n",
      ")\n",
      "\n",
      "\n",
      "2024-05-12 17:15:38,912 INFO sqlalchemy.engine.Engine [no key 0.00044s] ()\n",
      "2024-05-12 17:15:38,925 INFO sqlalchemy.engine.Engine \n",
      "CREATE TABLE products (\n",
      "\tid INTEGER NOT NULL, \n",
      "\tname VARCHAR, \n",
      "\tprice FLOAT, \n",
      "\tPRIMARY KEY (id)\n",
      ")\n",
      "\n",
      "\n",
      "2024-05-12 17:15:38,926 INFO sqlalchemy.engine.Engine [no key 0.00056s] ()\n",
      "2024-05-12 17:15:38,936 INFO sqlalchemy.engine.Engine \n",
      "CREATE TABLE orders (\n",
      "\tid INTEGER NOT NULL, \n",
      "\tclient_id INTEGER, \n",
      "\tdate DATETIME, \n",
      "\tPRIMARY KEY (id), \n",
      "\tFOREIGN KEY(client_id) REFERENCES clients (id)\n",
      ")\n",
      "\n",
      "\n",
      "2024-05-12 17:15:38,937 INFO sqlalchemy.engine.Engine [no key 0.00061s] ()\n",
      "2024-05-12 17:15:38,946 INFO sqlalchemy.engine.Engine \n",
      "CREATE TABLE order_details (\n",
      "\tid INTEGER NOT NULL, \n",
      "\torder_id INTEGER, \n",
      "\tproduct_id INTEGER, \n",
      "\tquantity INTEGER, \n",
      "\tPRIMARY KEY (id), \n",
      "\tFOREIGN KEY(order_id) REFERENCES orders (id), \n",
      "\tFOREIGN KEY(product_id) REFERENCES products (id)\n",
      ")\n",
      "\n",
      "\n",
      "2024-05-12 17:15:38,947 INFO sqlalchemy.engine.Engine [no key 0.00073s] ()\n",
      "2024-05-12 17:15:38,958 INFO sqlalchemy.engine.Engine COMMIT\n"
     ]
    }
   ],
   "source": [
    "# Create all tables in the database which are defined by Base's subclasses\n",
    "Base.metadata.create_all(engine)"
   ]
  },
  {
   "cell_type": "markdown",
   "metadata": {},
   "source": [
    "# Populate the Database"
   ]
  },
  {
   "cell_type": "code",
   "execution_count": 5,
   "metadata": {},
   "outputs": [],
   "source": [
    "from faker import Faker\n",
    "\n",
    "\n",
    "fake = Faker()"
   ]
  },
  {
   "cell_type": "markdown",
   "metadata": {},
   "source": [
    "## Define Data Requirements and Relationships"
   ]
  },
  {
   "cell_type": "markdown",
   "metadata": {},
   "source": [
    "You need to understand the relationships:\n",
    "- **Clients** can have multiple **Orders**.\n",
    "- **Orders** can contain multiple **OrderDetails**.\n",
    "- Each **OrderDetail** refers to one **Product**.\n",
    "- **Products** can be associated with multiple **OrderDetails**."
   ]
  },
  {
   "cell_type": "markdown",
   "metadata": {},
   "source": [
    "## Generate Data for Independent Tables"
   ]
  },
  {
   "cell_type": "markdown",
   "metadata": {},
   "source": [
    "You have to start with tables that do not have foreign key dependencies or where foreign keys refer to external data sources that do not require prior existence of other records in the database."
   ]
  },
  {
   "cell_type": "markdown",
   "metadata": {},
   "source": [
    "### Products"
   ]
  },
  {
   "cell_type": "markdown",
   "metadata": {},
   "source": [
    "You'll begin with creating fake products first because they don't depend on any other data"
   ]
  },
  {
   "cell_type": "code",
   "execution_count": 6,
   "metadata": {},
   "outputs": [],
   "source": [
    "products = [\n",
    "    Product(name=fake.word(), price=fake.random_number(digits=2))\n",
    "    for _ in range(100)\n",
    "]"
   ]
  },
  {
   "cell_type": "code",
   "execution_count": null,
   "metadata": {},
   "outputs": [],
   "source": []
  }
 ],
 "metadata": {
  "kernelspec": {
   "display_name": ".venv",
   "language": "python",
   "name": "python3"
  },
  "language_info": {
   "codemirror_mode": {
    "name": "ipython",
    "version": 3
   },
   "file_extension": ".py",
   "mimetype": "text/x-python",
   "name": "python",
   "nbconvert_exporter": "python",
   "pygments_lexer": "ipython3",
   "version": "3.11.2"
  }
 },
 "nbformat": 4,
 "nbformat_minor": 2
}

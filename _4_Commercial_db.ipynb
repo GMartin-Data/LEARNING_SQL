{
 "cells": [
  {
   "cell_type": "markdown",
   "metadata": {},
   "source": [
    "# Imports"
   ]
  },
  {
   "cell_type": "markdown",
   "metadata": {},
   "source": [
    "For the sake of simplicity, and to help the reader focus on what's needed in each section, imports won't be grouped on top but detailed as soon as they appear to be useful."
   ]
  },
  {
   "cell_type": "markdown",
   "metadata": {},
   "source": [
    "# Introduction"
   ]
  },
  {
   "cell_type": "markdown",
   "metadata": {},
   "source": [
    "Within this notebook, we'll go further with a more complicated \"commercial-type\" database.\n",
    "\n",
    "This will allow us to:\n",
    "- manipulate more complex data types, and see how it can be handled in SQLAlchemy,\n",
    "- perform more complex queries, both in plain SQL or with the ORM, these ways being implemented in SQLAlchemy,\n",
    "- discover how to populate this kind of database thanks to the `Faker` library."
   ]
  },
  {
   "cell_type": "code",
   "execution_count": null,
   "metadata": {},
   "outputs": [],
   "source": []
  }
 ],
 "metadata": {
  "kernelspec": {
   "display_name": ".venv",
   "language": "python",
   "name": "python3"
  },
  "language_info": {
   "codemirror_mode": {
    "name": "ipython",
    "version": 3
   },
   "file_extension": ".py",
   "mimetype": "text/x-python",
   "name": "python",
   "nbconvert_exporter": "python",
   "pygments_lexer": "ipython3",
   "version": "3.11.2"
  }
 },
 "nbformat": 4,
 "nbformat_minor": 2
}

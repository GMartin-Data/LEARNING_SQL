{
 "cells": [
  {
   "cell_type": "markdown",
   "metadata": {},
   "source": [
    "# Imports"
   ]
  },
  {
   "cell_type": "code",
   "execution_count": 1,
   "metadata": {},
   "outputs": [],
   "source": [
    "import sqlite3\n",
    "\n",
    "from sqlalchemy import create_engine, Column, Integer, String, ForeignKey\n",
    "from sqlalchemy.ext.declarative import declarative_base\n",
    "from sqlalchemy.orm import relationship, sessionmaker"
   ]
  },
  {
   "cell_type": "markdown",
   "metadata": {},
   "source": [
    "# Introduction"
   ]
  },
  {
   "cell_type": "markdown",
   "metadata": {},
   "source": [
    "The purpose of this Notebook is to learn SQLAlchemy, especially the ORM part, on a simple dataset involving authors and books.\n",
    "\n",
    "> **NOTE**\n",
    ">\n",
    "> For simplicity purpose, here is assumed that a book as only one author, meaning the book to author relationship is **many to one**.\n",
    ">\n",
    "> One case with **many to many** relationships should be studied later."
   ]
  },
  {
   "cell_type": "markdown",
   "metadata": {},
   "source": [
    "# Defining the Models"
   ]
  },
  {
   "cell_type": "code",
   "execution_count": 2,
   "metadata": {},
   "outputs": [
    {
     "name": "stderr",
     "output_type": "stream",
     "text": [
      "/tmp/ipykernel_17992/40742089.py:2: MovedIn20Warning: The ``declarative_base()`` function is now available as sqlalchemy.orm.declarative_base(). (deprecated since: 2.0) (Background on SQLAlchemy 2.0 at: https://sqlalche.me/e/b8d9)\n",
      "  Base = declarative_base()\n"
     ]
    }
   ],
   "source": [
    "# Foundational step when using the ORM\n",
    "Base = declarative_base()"
   ]
  },
  {
   "cell_type": "code",
   "execution_count": 3,
   "metadata": {},
   "outputs": [],
   "source": [
    "class Author(Base):\n",
    "    __tablename__ = 'Authors'\n",
    "    \n",
    "    AuthorID = Column(Integer, primary_key=True, autoincrement=True)\n",
    "    Name = Column(String, nullable=False)\n",
    "    \n",
    "    # Relationship to link to the books (an author may have many books)\n",
    "    books = relationship(\"Book\", back_populates=\"author\")"
   ]
  },
  {
   "cell_type": "code",
   "execution_count": 4,
   "metadata": {},
   "outputs": [],
   "source": [
    "class Book(Base):\n",
    "    __tablename__ = 'Books'\n",
    "    \n",
    "    BookID = Column(Integer, primary_key=True, autoincrement=True)\n",
    "    Title = Column(String, nullable=False)\n",
    "    AuthorID = Column(Integer, ForeignKey('Authors.AuthorID'))  # Note this is the __tablename__ and note the class' name\n",
    "    \n",
    "    # Relationship to link to the author\n",
    "    author = relationship(\"Author\", back_populates=\"books\")"
   ]
  },
  {
   "cell_type": "markdown",
   "metadata": {},
   "source": [
    "# Connecting and Inserting Data"
   ]
  },
  {
   "cell_type": "markdown",
   "metadata": {},
   "source": [
    "👉 We will use an in-memory SQLite instance.\n",
    "\n",
    "This essentially means the DB will run on RAM and, hence, there won't be any persistence of data, but this isn't a problem here as we're only playing with toy"
   ]
  },
  {
   "cell_type": "markdown",
   "metadata": {},
   "source": [
    "> **NOTE**\n",
    ">\n",
    "> It's worth to note that:\n",
    "> - the data will be erased **when the connection is closed** and not **when the session is closed**.\n",
    "> - by default, SQLAlchemy **isn't on auto-commit mode** and **it's best practise to commit your changes**.\n"
   ]
  },
  {
   "cell_type": "code",
   "execution_count": 5,
   "metadata": {},
   "outputs": [
    {
     "name": "stdout",
     "output_type": "stream",
     "text": [
      "2024-05-12 12:57:30,284 INFO sqlalchemy.engine.Engine BEGIN (implicit)\n",
      "2024-05-12 12:57:30,285 INFO sqlalchemy.engine.Engine PRAGMA main.table_info(\"Authors\")\n",
      "2024-05-12 12:57:30,286 INFO sqlalchemy.engine.Engine [raw sql] ()\n",
      "2024-05-12 12:57:30,287 INFO sqlalchemy.engine.Engine PRAGMA temp.table_info(\"Authors\")\n",
      "2024-05-12 12:57:30,288 INFO sqlalchemy.engine.Engine [raw sql] ()\n",
      "2024-05-12 12:57:30,289 INFO sqlalchemy.engine.Engine PRAGMA main.table_info(\"Books\")\n",
      "2024-05-12 12:57:30,290 INFO sqlalchemy.engine.Engine [raw sql] ()\n",
      "2024-05-12 12:57:30,291 INFO sqlalchemy.engine.Engine PRAGMA temp.table_info(\"Books\")\n",
      "2024-05-12 12:57:30,292 INFO sqlalchemy.engine.Engine [raw sql] ()\n",
      "2024-05-12 12:57:30,293 INFO sqlalchemy.engine.Engine \n",
      "CREATE TABLE \"Authors\" (\n",
      "\t\"AuthorID\" INTEGER NOT NULL, \n",
      "\t\"Name\" VARCHAR NOT NULL, \n",
      "\tPRIMARY KEY (\"AuthorID\")\n",
      ")\n",
      "\n",
      "\n",
      "2024-05-12 12:57:30,294 INFO sqlalchemy.engine.Engine [no key 0.00059s] ()\n",
      "2024-05-12 12:57:30,296 INFO sqlalchemy.engine.Engine \n",
      "CREATE TABLE \"Books\" (\n",
      "\t\"BookID\" INTEGER NOT NULL, \n",
      "\t\"Title\" VARCHAR NOT NULL, \n",
      "\t\"AuthorID\" INTEGER, \n",
      "\tPRIMARY KEY (\"BookID\"), \n",
      "\tFOREIGN KEY(\"AuthorID\") REFERENCES \"Authors\" (\"AuthorID\")\n",
      ")\n",
      "\n",
      "\n",
      "2024-05-12 12:57:30,296 INFO sqlalchemy.engine.Engine [no key 0.00058s] ()\n",
      "2024-05-12 12:57:30,297 INFO sqlalchemy.engine.Engine COMMIT\n"
     ]
    }
   ],
   "source": [
    "# Create an engine and bind the metadata of the Base class to this engine\n",
    "engine = create_engine('sqlite:///:memory:', echo=True)  # Using an in-memory SQLite database\n",
    "Base.metadata.create_all(engine)\n",
    "\n",
    "# Create a sessionmaker bound to the engine\n",
    "Session = sessionmaker(bind=engine)"
   ]
  },
  {
   "cell_type": "code",
   "execution_count": 6,
   "metadata": {},
   "outputs": [],
   "source": [
    "# Authors and Books data\n",
    "authors = [\n",
    "    Author(Name=\"Alice Munro\"),\n",
    "    Author(Name=\"Chimamanda Ngozi Adichie\"),\n",
    "    Author(Name=\"Gabriel García Márquez\"),\n",
    "    Author(Name=\"Haruki Murakami\"),\n",
    "    Author(Name=\"J.K. Rowling\")\n",
    "]\n",
    "\n",
    "books = [\n",
    "    Book(Title=\"Runaway\", author=authors[0]),\n",
    "    Book(Title=\"Half of a Yellow Sun\", author=authors[1]),\n",
    "    Book(Title=\"Americanah\", author=authors[1]),\n",
    "    Book(Title=\"One Hundred Years of Solitude\", author=authors[2]),\n",
    "    Book(Title=\"Love in the Time of Cholera\", author=authors[2]),\n",
    "    Book(Title=\"Norwegian Wood\", author=authors[3]),\n",
    "    Book(Title=\"Kafka on the Shore\", author=authors[3]),\n",
    "    Book(Title=\"Harry Potter and the Sorcerer's Stone\", author=authors[4]),\n",
    "    Book(Title=\"Harry Potter and the Chamber of Secrets\", author=authors[4])\n",
    "]"
   ]
  },
  {
   "cell_type": "code",
   "execution_count": 7,
   "metadata": {},
   "outputs": [
    {
     "name": "stdout",
     "output_type": "stream",
     "text": [
      "2024-05-12 12:57:30,322 INFO sqlalchemy.engine.Engine BEGIN (implicit)\n",
      "2024-05-12 12:57:30,326 INFO sqlalchemy.engine.Engine INSERT INTO \"Authors\" (\"Name\") VALUES (?) RETURNING \"AuthorID\"\n",
      "2024-05-12 12:57:30,326 INFO sqlalchemy.engine.Engine [generated in 0.00009s (insertmanyvalues) 1/5 (ordered; batch not supported)] ('Alice Munro',)\n",
      "2024-05-12 12:57:30,328 INFO sqlalchemy.engine.Engine INSERT INTO \"Authors\" (\"Name\") VALUES (?) RETURNING \"AuthorID\"\n",
      "2024-05-12 12:57:30,329 INFO sqlalchemy.engine.Engine [insertmanyvalues 2/5 (ordered; batch not supported)] ('Chimamanda Ngozi Adichie',)\n",
      "2024-05-12 12:57:30,330 INFO sqlalchemy.engine.Engine INSERT INTO \"Authors\" (\"Name\") VALUES (?) RETURNING \"AuthorID\"\n",
      "2024-05-12 12:57:30,332 INFO sqlalchemy.engine.Engine [insertmanyvalues 3/5 (ordered; batch not supported)] ('Gabriel García Márquez',)\n",
      "2024-05-12 12:57:30,333 INFO sqlalchemy.engine.Engine INSERT INTO \"Authors\" (\"Name\") VALUES (?) RETURNING \"AuthorID\"\n",
      "2024-05-12 12:57:30,333 INFO sqlalchemy.engine.Engine [insertmanyvalues 4/5 (ordered; batch not supported)] ('Haruki Murakami',)\n",
      "2024-05-12 12:57:30,336 INFO sqlalchemy.engine.Engine INSERT INTO \"Authors\" (\"Name\") VALUES (?) RETURNING \"AuthorID\"\n",
      "2024-05-12 12:57:30,337 INFO sqlalchemy.engine.Engine [insertmanyvalues 5/5 (ordered; batch not supported)] ('J.K. Rowling',)\n",
      "2024-05-12 12:57:30,340 INFO sqlalchemy.engine.Engine INSERT INTO \"Books\" (\"Title\", \"AuthorID\") VALUES (?, ?) RETURNING \"BookID\"\n",
      "2024-05-12 12:57:30,341 INFO sqlalchemy.engine.Engine [generated in 0.00011s (insertmanyvalues) 1/9 (ordered; batch not supported)] ('Runaway', 1)\n",
      "2024-05-12 12:57:30,343 INFO sqlalchemy.engine.Engine INSERT INTO \"Books\" (\"Title\", \"AuthorID\") VALUES (?, ?) RETURNING \"BookID\"\n",
      "2024-05-12 12:57:30,344 INFO sqlalchemy.engine.Engine [insertmanyvalues 2/9 (ordered; batch not supported)] ('Half of a Yellow Sun', 2)\n",
      "2024-05-12 12:57:30,344 INFO sqlalchemy.engine.Engine INSERT INTO \"Books\" (\"Title\", \"AuthorID\") VALUES (?, ?) RETURNING \"BookID\"\n",
      "2024-05-12 12:57:30,345 INFO sqlalchemy.engine.Engine [insertmanyvalues 3/9 (ordered; batch not supported)] ('Americanah', 2)\n",
      "2024-05-12 12:57:30,347 INFO sqlalchemy.engine.Engine INSERT INTO \"Books\" (\"Title\", \"AuthorID\") VALUES (?, ?) RETURNING \"BookID\"\n",
      "2024-05-12 12:57:30,348 INFO sqlalchemy.engine.Engine [insertmanyvalues 4/9 (ordered; batch not supported)] ('One Hundred Years of Solitude', 3)\n",
      "2024-05-12 12:57:30,349 INFO sqlalchemy.engine.Engine INSERT INTO \"Books\" (\"Title\", \"AuthorID\") VALUES (?, ?) RETURNING \"BookID\"\n",
      "2024-05-12 12:57:30,350 INFO sqlalchemy.engine.Engine [insertmanyvalues 5/9 (ordered; batch not supported)] ('Love in the Time of Cholera', 3)\n",
      "2024-05-12 12:57:30,350 INFO sqlalchemy.engine.Engine INSERT INTO \"Books\" (\"Title\", \"AuthorID\") VALUES (?, ?) RETURNING \"BookID\"\n",
      "2024-05-12 12:57:30,351 INFO sqlalchemy.engine.Engine [insertmanyvalues 6/9 (ordered; batch not supported)] ('Norwegian Wood', 4)\n",
      "2024-05-12 12:57:30,353 INFO sqlalchemy.engine.Engine INSERT INTO \"Books\" (\"Title\", \"AuthorID\") VALUES (?, ?) RETURNING \"BookID\"\n",
      "2024-05-12 12:57:30,354 INFO sqlalchemy.engine.Engine [insertmanyvalues 7/9 (ordered; batch not supported)] ('Kafka on the Shore', 4)\n",
      "2024-05-12 12:57:30,355 INFO sqlalchemy.engine.Engine INSERT INTO \"Books\" (\"Title\", \"AuthorID\") VALUES (?, ?) RETURNING \"BookID\"\n",
      "2024-05-12 12:57:30,355 INFO sqlalchemy.engine.Engine [insertmanyvalues 8/9 (ordered; batch not supported)] (\"Harry Potter and the Sorcerer's Stone\", 5)\n",
      "2024-05-12 12:57:30,357 INFO sqlalchemy.engine.Engine INSERT INTO \"Books\" (\"Title\", \"AuthorID\") VALUES (?, ?) RETURNING \"BookID\"\n",
      "2024-05-12 12:57:30,358 INFO sqlalchemy.engine.Engine [insertmanyvalues 9/9 (ordered; batch not supported)] ('Harry Potter and the Chamber of Secrets', 5)\n",
      "2024-05-12 12:57:30,360 INFO sqlalchemy.engine.Engine COMMIT\n"
     ]
    }
   ],
   "source": [
    "# Using a context manager to handle the session\n",
    "with Session() as session:\n",
    "    session.add_all(authors + books)\n",
    "    session.commit()"
   ]
  },
  {
   "cell_type": "code",
   "execution_count": 8,
   "metadata": {},
   "outputs": [
    {
     "name": "stdout",
     "output_type": "stream",
     "text": [
      "2024-05-12 12:57:30,368 INFO sqlalchemy.engine.Engine BEGIN (implicit)\n",
      "2024-05-12 12:57:30,372 INFO sqlalchemy.engine.Engine SELECT \"Authors\".\"AuthorID\" AS \"Authors_AuthorID\", \"Authors\".\"Name\" AS \"Authors_Name\" \n",
      "FROM \"Authors\"\n",
      "2024-05-12 12:57:30,373 INFO sqlalchemy.engine.Engine [generated in 0.00089s] ()\n",
      "Author: 1 - Alice Munro\n",
      "2024-05-12 12:57:30,378 INFO sqlalchemy.engine.Engine SELECT \"Books\".\"BookID\" AS \"Books_BookID\", \"Books\".\"Title\" AS \"Books_Title\", \"Books\".\"AuthorID\" AS \"Books_AuthorID\" \n",
      "FROM \"Books\" \n",
      "WHERE ? = \"Books\".\"AuthorID\"\n",
      "2024-05-12 12:57:30,379 INFO sqlalchemy.engine.Engine [generated in 0.00156s] (1,)\n",
      " - Book: Runaway\n",
      "Author: 2 - Chimamanda Ngozi Adichie\n",
      "2024-05-12 12:57:30,382 INFO sqlalchemy.engine.Engine SELECT \"Books\".\"BookID\" AS \"Books_BookID\", \"Books\".\"Title\" AS \"Books_Title\", \"Books\".\"AuthorID\" AS \"Books_AuthorID\" \n",
      "FROM \"Books\" \n",
      "WHERE ? = \"Books\".\"AuthorID\"\n",
      "2024-05-12 12:57:30,383 INFO sqlalchemy.engine.Engine [cached since 0.004962s ago] (2,)\n",
      " - Book: Half of a Yellow Sun\n",
      " - Book: Americanah\n",
      "Author: 3 - Gabriel García Márquez\n",
      "2024-05-12 12:57:30,386 INFO sqlalchemy.engine.Engine SELECT \"Books\".\"BookID\" AS \"Books_BookID\", \"Books\".\"Title\" AS \"Books_Title\", \"Books\".\"AuthorID\" AS \"Books_AuthorID\" \n",
      "FROM \"Books\" \n",
      "WHERE ? = \"Books\".\"AuthorID\"\n",
      "2024-05-12 12:57:30,387 INFO sqlalchemy.engine.Engine [cached since 0.009076s ago] (3,)\n",
      " - Book: One Hundred Years of Solitude\n",
      " - Book: Love in the Time of Cholera\n",
      "Author: 4 - Haruki Murakami\n",
      "2024-05-12 12:57:30,391 INFO sqlalchemy.engine.Engine SELECT \"Books\".\"BookID\" AS \"Books_BookID\", \"Books\".\"Title\" AS \"Books_Title\", \"Books\".\"AuthorID\" AS \"Books_AuthorID\" \n",
      "FROM \"Books\" \n",
      "WHERE ? = \"Books\".\"AuthorID\"\n",
      "2024-05-12 12:57:30,391 INFO sqlalchemy.engine.Engine [cached since 0.01362s ago] (4,)\n",
      " - Book: Norwegian Wood\n",
      " - Book: Kafka on the Shore\n",
      "Author: 5 - J.K. Rowling\n",
      "2024-05-12 12:57:30,393 INFO sqlalchemy.engine.Engine SELECT \"Books\".\"BookID\" AS \"Books_BookID\", \"Books\".\"Title\" AS \"Books_Title\", \"Books\".\"AuthorID\" AS \"Books_AuthorID\" \n",
      "FROM \"Books\" \n",
      "WHERE ? = \"Books\".\"AuthorID\"\n",
      "2024-05-12 12:57:30,394 INFO sqlalchemy.engine.Engine [cached since 0.01642s ago] (5,)\n",
      " - Book: Harry Potter and the Sorcerer's Stone\n",
      " - Book: Harry Potter and the Chamber of Secrets\n",
      "2024-05-12 12:57:30,396 INFO sqlalchemy.engine.Engine ROLLBACK\n"
     ]
    }
   ],
   "source": [
    "# To verify insertion, print authors and their books\n",
    "with Session() as session:\n",
    "    for author in session.query(Author).all():\n",
    "        print(f\"Author: {author.AuthorID} - {author.Name}\")\n",
    "        for book in author.books:\n",
    "            print(f\" - Book: {book.Title}\")\n",
    "        "
   ]
  },
  {
   "cell_type": "markdown",
   "metadata": {},
   "source": [
    "# Workout On Retrieving Data"
   ]
  },
  {
   "cell_type": "markdown",
   "metadata": {},
   "source": [
    "## Retrieving All Authors"
   ]
  },
  {
   "cell_type": "code",
   "execution_count": 9,
   "metadata": {},
   "outputs": [
    {
     "name": "stdout",
     "output_type": "stream",
     "text": [
      "2024-05-12 12:57:30,406 INFO sqlalchemy.engine.Engine BEGIN (implicit)\n",
      "2024-05-12 12:57:30,408 INFO sqlalchemy.engine.Engine SELECT \"Authors\".\"AuthorID\" AS \"Authors_AuthorID\", \"Authors\".\"Name\" AS \"Authors_Name\" \n",
      "FROM \"Authors\"\n",
      "2024-05-12 12:57:30,409 INFO sqlalchemy.engine.Engine [cached since 0.03692s ago] ()\n",
      "Alice Munro\n",
      "Chimamanda Ngozi Adichie\n",
      "Gabriel García Márquez\n",
      "Haruki Murakami\n",
      "J.K. Rowling\n",
      "2024-05-12 12:57:30,412 INFO sqlalchemy.engine.Engine ROLLBACK\n"
     ]
    }
   ],
   "source": [
    "with Session() as session:\n",
    "    authors = session.query(Author).all()\n",
    "    for author in authors:\n",
    "        print(author.Name)"
   ]
  },
  {
   "cell_type": "markdown",
   "metadata": {},
   "source": [
    "## Retrieving All Books"
   ]
  },
  {
   "cell_type": "code",
   "execution_count": 10,
   "metadata": {},
   "outputs": [
    {
     "name": "stdout",
     "output_type": "stream",
     "text": [
      "2024-05-12 12:57:30,421 INFO sqlalchemy.engine.Engine BEGIN (implicit)\n",
      "2024-05-12 12:57:30,424 INFO sqlalchemy.engine.Engine SELECT \"Books\".\"BookID\" AS \"Books_BookID\", \"Books\".\"Title\" AS \"Books_Title\", \"Books\".\"AuthorID\" AS \"Books_AuthorID\" \n",
      "FROM \"Books\"\n",
      "2024-05-12 12:57:30,425 INFO sqlalchemy.engine.Engine [generated in 0.00106s] ()\n",
      "Runaway\n",
      "Half of a Yellow Sun\n",
      "Americanah\n",
      "One Hundred Years of Solitude\n",
      "Love in the Time of Cholera\n",
      "Norwegian Wood\n",
      "Kafka on the Shore\n",
      "Harry Potter and the Sorcerer's Stone\n",
      "Harry Potter and the Chamber of Secrets\n",
      "2024-05-12 12:57:30,427 INFO sqlalchemy.engine.Engine ROLLBACK\n"
     ]
    }
   ],
   "source": [
    "with Session() as session:\n",
    "    books = session.query(Book).all()\n",
    "    for book in books:\n",
    "        print(book.Title)"
   ]
  },
  {
   "cell_type": "markdown",
   "metadata": {},
   "source": [
    "## Retrieve Books by a Specific Author"
   ]
  },
  {
   "cell_type": "code",
   "execution_count": 11,
   "metadata": {},
   "outputs": [
    {
     "name": "stdout",
     "output_type": "stream",
     "text": [
      "2024-05-12 12:57:30,436 INFO sqlalchemy.engine.Engine BEGIN (implicit)\n",
      "2024-05-12 12:57:30,439 INFO sqlalchemy.engine.Engine SELECT \"Books\".\"BookID\" AS \"Books_BookID\", \"Books\".\"Title\" AS \"Books_Title\", \"Books\".\"AuthorID\" AS \"Books_AuthorID\" \n",
      "FROM \"Books\" JOIN \"Authors\" ON \"Authors\".\"AuthorID\" = \"Books\".\"AuthorID\" \n",
      "WHERE \"Authors\".\"Name\" = ?\n",
      "2024-05-12 12:57:30,440 INFO sqlalchemy.engine.Engine [generated in 0.00076s] ('J.K. Rowling',)\n",
      "2024-05-12 12:57:30,442 INFO sqlalchemy.engine.Engine SELECT \"Authors\".\"AuthorID\" AS \"Authors_AuthorID\", \"Authors\".\"Name\" AS \"Authors_Name\" \n",
      "FROM \"Authors\" \n",
      "WHERE \"Authors\".\"AuthorID\" = ?\n",
      "2024-05-12 12:57:30,442 INFO sqlalchemy.engine.Engine [generated in 0.00068s] (5,)\n",
      "Harry Potter and the Sorcerer's Stone by J.K. Rowling\n",
      "Harry Potter and the Chamber of Secrets by J.K. Rowling\n",
      "2024-05-12 12:57:30,444 INFO sqlalchemy.engine.Engine ROLLBACK\n"
     ]
    }
   ],
   "source": [
    "with Session() as session:\n",
    "    books = (session\n",
    "             .query(Book)\n",
    "             .join(Author)\n",
    "             .filter(Author.Name == 'J.K. Rowling')\n",
    "             .all())\n",
    "    for book in books:\n",
    "        print(f\"{book.Title} by {book.author.Name}\")"
   ]
  },
  {
   "cell_type": "code",
   "execution_count": 12,
   "metadata": {},
   "outputs": [
    {
     "name": "stdout",
     "output_type": "stream",
     "text": [
      "2024-05-12 12:57:30,454 INFO sqlalchemy.engine.Engine BEGIN (implicit)\n",
      "2024-05-12 12:57:30,456 INFO sqlalchemy.engine.Engine SELECT \"Books\".\"BookID\" AS \"Books_BookID\", \"Books\".\"Title\" AS \"Books_Title\", \"Books\".\"AuthorID\" AS \"Books_AuthorID\" \n",
      "FROM \"Books\" JOIN \"Authors\" ON \"Authors\".\"AuthorID\" = \"Books\".\"AuthorID\" \n",
      "WHERE (\"Authors\".\"Name\" LIKE '%' || ? || '%')\n",
      "2024-05-12 12:57:30,458 INFO sqlalchemy.engine.Engine [generated in 0.00144s] ('Haruki',)\n",
      "2024-05-12 12:57:30,460 INFO sqlalchemy.engine.Engine SELECT \"Authors\".\"AuthorID\" AS \"Authors_AuthorID\", \"Authors\".\"Name\" AS \"Authors_Name\" \n",
      "FROM \"Authors\" \n",
      "WHERE \"Authors\".\"AuthorID\" = ?\n",
      "2024-05-12 12:57:30,460 INFO sqlalchemy.engine.Engine [cached since 0.01872s ago] (4,)\n",
      "Norwegian Wood by Haruki Murakami\n",
      "Kafka on the Shore by Haruki Murakami\n",
      "2024-05-12 12:57:30,462 INFO sqlalchemy.engine.Engine ROLLBACK\n"
     ]
    }
   ],
   "source": [
    "# A more complex one, with the `contains` method\n",
    "with Session() as session:\n",
    "    books = (session\n",
    "             .query(Book)\n",
    "             .join(Author)\n",
    "             .filter(Author.Name.contains(\"Haruki\"))\n",
    "             .all())\n",
    "    for book in books:\n",
    "        print(f\"{book.Title} by {book.author.Name}\")"
   ]
  },
  {
   "cell_type": "markdown",
   "metadata": {},
   "source": [
    "## Query Books With Multiple Conditions"
   ]
  },
  {
   "cell_type": "code",
   "execution_count": 13,
   "metadata": {},
   "outputs": [
    {
     "name": "stdout",
     "output_type": "stream",
     "text": [
      "2024-05-12 12:57:30,475 INFO sqlalchemy.engine.Engine BEGIN (implicit)\n",
      "2024-05-12 12:57:30,478 INFO sqlalchemy.engine.Engine SELECT \"Books\".\"BookID\" AS \"Books_BookID\", \"Books\".\"Title\" AS \"Books_Title\", \"Books\".\"AuthorID\" AS \"Books_AuthorID\" \n",
      "FROM \"Books\" JOIN \"Authors\" ON \"Authors\".\"AuthorID\" = \"Books\".\"AuthorID\" \n",
      "WHERE (\"Books\".\"Title\" LIKE '%' || ? || '%') AND (\"Authors\".\"Name\" LIKE '%' || ? || '%')\n",
      "2024-05-12 12:57:30,478 INFO sqlalchemy.engine.Engine [generated in 0.00081s] ('The', 'Alice')\n",
      "2024-05-12 12:57:30,480 INFO sqlalchemy.engine.Engine ROLLBACK\n"
     ]
    }
   ],
   "source": [
    "with Session() as session:\n",
    "    books = (session\n",
    "             .query(Book)\n",
    "             .join(Author)\n",
    "             .filter(Book.Title.contains(\"The\"), Author.Name.contains(\"Alice\"))\n",
    "             .all())\n",
    "    for book in books:\n",
    "        print(f\"{book.Title} by {book.author.Name}\")"
   ]
  },
  {
   "cell_type": "markdown",
   "metadata": {},
   "source": [
    "## Find Authors Without Any Book"
   ]
  },
  {
   "cell_type": "code",
   "execution_count": 14,
   "metadata": {},
   "outputs": [
    {
     "name": "stdout",
     "output_type": "stream",
     "text": [
      "2024-05-12 12:57:30,490 INFO sqlalchemy.engine.Engine BEGIN (implicit)\n",
      "2024-05-12 12:57:30,493 INFO sqlalchemy.engine.Engine SELECT \"Authors\".\"AuthorID\" AS \"Authors_AuthorID\", \"Authors\".\"Name\" AS \"Authors_Name\" \n",
      "FROM \"Authors\" LEFT OUTER JOIN \"Books\" ON \"Authors\".\"AuthorID\" = \"Books\".\"AuthorID\" \n",
      "WHERE \"Books\".\"BookID\" IS NULL\n",
      "2024-05-12 12:57:30,494 INFO sqlalchemy.engine.Engine [generated in 0.00136s] ()\n",
      "2024-05-12 12:57:30,496 INFO sqlalchemy.engine.Engine ROLLBACK\n"
     ]
    }
   ],
   "source": [
    "with Session() as session:\n",
    "    authors_without_books = (session\n",
    "                             .query(Author)\n",
    "                             .outerjoin(Book, Author.books)\n",
    "                             .filter(Book.BookID == None)\n",
    "                             .all())\n",
    "    for author in authors_without_books:\n",
    "        print(author.Name)"
   ]
  },
  {
   "cell_type": "markdown",
   "metadata": {},
   "source": [
    "# Close the Connection"
   ]
  },
  {
   "cell_type": "code",
   "execution_count": 15,
   "metadata": {},
   "outputs": [],
   "source": [
    "engine.dispose()"
   ]
  },
  {
   "cell_type": "markdown",
   "metadata": {},
   "source": []
  }
 ],
 "metadata": {
  "kernelspec": {
   "display_name": ".venv",
   "language": "python",
   "name": "python3"
  },
  "language_info": {
   "codemirror_mode": {
    "name": "ipython",
    "version": 3
   },
   "file_extension": ".py",
   "mimetype": "text/x-python",
   "name": "python",
   "nbconvert_exporter": "python",
   "pygments_lexer": "ipython3",
   "version": "3.11.2"
  }
 },
 "nbformat": 4,
 "nbformat_minor": 2
}

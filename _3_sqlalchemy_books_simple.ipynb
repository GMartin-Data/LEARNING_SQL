{
 "cells": [
  {
   "cell_type": "markdown",
   "metadata": {},
   "source": [
    "# Imports"
   ]
  },
  {
   "cell_type": "code",
   "execution_count": 1,
   "metadata": {},
   "outputs": [],
   "source": [
    "import sqlite3\n",
    "\n",
    "from sqlalchemy import create_engine, Column, Integer, String, ForeignKey\n",
    "from sqlalchemy.ext.declarative import declarative_base\n",
    "from sqlalchemy.orm import relationship, sessionmaker"
   ]
  },
  {
   "cell_type": "markdown",
   "metadata": {},
   "source": [
    "# Introduction"
   ]
  },
  {
   "cell_type": "markdown",
   "metadata": {},
   "source": [
    "The purpose of this Notebook is to learn SQLAlchemy, especially the ORM part, on a simple dataset involving authors and books.\n",
    "\n",
    "> **NOTE**\n",
    ">\n",
    "> For simplicity purpose, here is assumed that a book as only one author, meaning the book to author relationship is **many to one**.\n",
    ">\n",
    "> One case with **many to many** relationships should be studied later."
   ]
  },
  {
   "cell_type": "markdown",
   "metadata": {},
   "source": [
    "# Defining the Models"
   ]
  },
  {
   "cell_type": "code",
   "execution_count": 2,
   "metadata": {},
   "outputs": [
    {
     "name": "stderr",
     "output_type": "stream",
     "text": [
      "/tmp/ipykernel_20612/40742089.py:2: MovedIn20Warning: The ``declarative_base()`` function is now available as sqlalchemy.orm.declarative_base(). (deprecated since: 2.0) (Background on SQLAlchemy 2.0 at: https://sqlalche.me/e/b8d9)\n",
      "  Base = declarative_base()\n"
     ]
    }
   ],
   "source": [
    "# Foundational step when using the ORM\n",
    "Base = declarative_base()"
   ]
  },
  {
   "cell_type": "code",
   "execution_count": 3,
   "metadata": {},
   "outputs": [],
   "source": [
    "class Author(Base):\n",
    "    __tablename__ = 'Authors'\n",
    "    \n",
    "    AuthorID = Column(Integer, primary_key=True, autoincrement=True)\n",
    "    Name = Column(String, nullable=False)\n",
    "    \n",
    "    # Relationship to link to the books (an author may have many books)\n",
    "    books = relationship(\"Book\", back_populates=\"author\")"
   ]
  },
  {
   "cell_type": "code",
   "execution_count": 4,
   "metadata": {},
   "outputs": [],
   "source": [
    "class Book(Base):\n",
    "    __tablename__ = 'Books'\n",
    "    \n",
    "    BookID = Column(Integer, primary_key=True, autoincrement=True)\n",
    "    Title = Column(String, nullable=False)\n",
    "    AuthorID = Column(Integer, ForeignKey('Authors.AuthorID'))  # Note this is the __tablename__ and note the class' name\n",
    "    \n",
    "    # Relationship to link to the author\n",
    "    author = relationship(\"Author\", back_populates=\"books\")"
   ]
  },
  {
   "cell_type": "markdown",
   "metadata": {},
   "source": [
    "# Connecting and Inserting Data"
   ]
  },
  {
   "cell_type": "markdown",
   "metadata": {},
   "source": [
    "👉 We will use an in-memory SQLite instance.\n",
    "\n",
    "This essentially means the DB will run on RAM and, hence, there won't be any persistence of data, but this isn't a problem here as we're only playing with toy"
   ]
  },
  {
   "cell_type": "markdown",
   "metadata": {},
   "source": [
    "> **NOTE**\n",
    ">\n",
    "> It's worth to note that:\n",
    "> - the data will be erased **when the connection is closed** and not **when the session is closed**.\n",
    "> - by default, SQLAlchemy **isn't on auto-commit mode** and **it's best practise to commit your changes**.\n"
   ]
  },
  {
   "cell_type": "code",
   "execution_count": 5,
   "metadata": {},
   "outputs": [
    {
     "name": "stdout",
     "output_type": "stream",
     "text": [
      "2024-05-12 13:43:45,992 INFO sqlalchemy.engine.Engine BEGIN (implicit)\n",
      "2024-05-12 13:43:45,993 INFO sqlalchemy.engine.Engine PRAGMA main.table_info(\"Authors\")\n",
      "2024-05-12 13:43:45,994 INFO sqlalchemy.engine.Engine [raw sql] ()\n",
      "2024-05-12 13:43:45,996 INFO sqlalchemy.engine.Engine PRAGMA temp.table_info(\"Authors\")\n",
      "2024-05-12 13:43:45,996 INFO sqlalchemy.engine.Engine [raw sql] ()\n",
      "2024-05-12 13:43:45,997 INFO sqlalchemy.engine.Engine PRAGMA main.table_info(\"Books\")\n",
      "2024-05-12 13:43:45,998 INFO sqlalchemy.engine.Engine [raw sql] ()\n",
      "2024-05-12 13:43:45,999 INFO sqlalchemy.engine.Engine PRAGMA temp.table_info(\"Books\")\n",
      "2024-05-12 13:43:46,000 INFO sqlalchemy.engine.Engine [raw sql] ()\n",
      "2024-05-12 13:43:46,001 INFO sqlalchemy.engine.Engine \n",
      "CREATE TABLE \"Authors\" (\n",
      "\t\"AuthorID\" INTEGER NOT NULL, \n",
      "\t\"Name\" VARCHAR NOT NULL, \n",
      "\tPRIMARY KEY (\"AuthorID\")\n",
      ")\n",
      "\n",
      "\n",
      "2024-05-12 13:43:46,002 INFO sqlalchemy.engine.Engine [no key 0.00066s] ()\n",
      "2024-05-12 13:43:46,004 INFO sqlalchemy.engine.Engine \n",
      "CREATE TABLE \"Books\" (\n",
      "\t\"BookID\" INTEGER NOT NULL, \n",
      "\t\"Title\" VARCHAR NOT NULL, \n",
      "\t\"AuthorID\" INTEGER, \n",
      "\tPRIMARY KEY (\"BookID\"), \n",
      "\tFOREIGN KEY(\"AuthorID\") REFERENCES \"Authors\" (\"AuthorID\")\n",
      ")\n",
      "\n",
      "\n",
      "2024-05-12 13:43:46,005 INFO sqlalchemy.engine.Engine [no key 0.00097s] ()\n",
      "2024-05-12 13:43:46,006 INFO sqlalchemy.engine.Engine COMMIT\n"
     ]
    }
   ],
   "source": [
    "# Create an engine and bind the metadata of the Base class to this engine\n",
    "engine = create_engine('sqlite:///:memory:', echo=True)  # Using an in-memory SQLite database\n",
    "Base.metadata.create_all(engine)\n",
    "\n",
    "# Create a sessionmaker bound to the engine\n",
    "Session = sessionmaker(bind=engine)"
   ]
  },
  {
   "cell_type": "code",
   "execution_count": 6,
   "metadata": {},
   "outputs": [],
   "source": [
    "# Authors and Books data\n",
    "authors = [\n",
    "    Author(Name=\"Alice Munro\"),\n",
    "    Author(Name=\"Chimamanda Ngozi Adichie\"),\n",
    "    Author(Name=\"Gabriel García Márquez\"),\n",
    "    Author(Name=\"Haruki Murakami\"),\n",
    "    Author(Name=\"J.K. Rowling\")\n",
    "]\n",
    "\n",
    "books = [\n",
    "    Book(Title=\"Runaway\", author=authors[0]),\n",
    "    Book(Title=\"Half of a Yellow Sun\", author=authors[1]),\n",
    "    Book(Title=\"Americanah\", author=authors[1]),\n",
    "    Book(Title=\"One Hundred Years of Solitude\", author=authors[2]),\n",
    "    Book(Title=\"Love in the Time of Cholera\", author=authors[2]),\n",
    "    Book(Title=\"Norwegian Wood\", author=authors[3]),\n",
    "    Book(Title=\"Kafka on the Shore\", author=authors[3]),\n",
    "    Book(Title=\"Harry Potter and the Sorcerer's Stone\", author=authors[4]),\n",
    "    Book(Title=\"Harry Potter and the Chamber of Secrets\", author=authors[4])\n",
    "]"
   ]
  },
  {
   "cell_type": "code",
   "execution_count": 7,
   "metadata": {},
   "outputs": [
    {
     "name": "stdout",
     "output_type": "stream",
     "text": [
      "2024-05-12 13:43:46,042 INFO sqlalchemy.engine.Engine BEGIN (implicit)\n",
      "2024-05-12 13:43:46,044 INFO sqlalchemy.engine.Engine INSERT INTO \"Authors\" (\"Name\") VALUES (?) RETURNING \"AuthorID\"\n",
      "2024-05-12 13:43:46,045 INFO sqlalchemy.engine.Engine [generated in 0.00010s (insertmanyvalues) 1/5 (ordered; batch not supported)] ('Alice Munro',)\n",
      "2024-05-12 13:43:46,047 INFO sqlalchemy.engine.Engine INSERT INTO \"Authors\" (\"Name\") VALUES (?) RETURNING \"AuthorID\"\n",
      "2024-05-12 13:43:46,048 INFO sqlalchemy.engine.Engine [insertmanyvalues 2/5 (ordered; batch not supported)] ('Chimamanda Ngozi Adichie',)\n",
      "2024-05-12 13:43:46,050 INFO sqlalchemy.engine.Engine INSERT INTO \"Authors\" (\"Name\") VALUES (?) RETURNING \"AuthorID\"\n",
      "2024-05-12 13:43:46,051 INFO sqlalchemy.engine.Engine [insertmanyvalues 3/5 (ordered; batch not supported)] ('Gabriel García Márquez',)\n",
      "2024-05-12 13:43:46,052 INFO sqlalchemy.engine.Engine INSERT INTO \"Authors\" (\"Name\") VALUES (?) RETURNING \"AuthorID\"\n",
      "2024-05-12 13:43:46,052 INFO sqlalchemy.engine.Engine [insertmanyvalues 4/5 (ordered; batch not supported)] ('Haruki Murakami',)\n",
      "2024-05-12 13:43:46,054 INFO sqlalchemy.engine.Engine INSERT INTO \"Authors\" (\"Name\") VALUES (?) RETURNING \"AuthorID\"\n",
      "2024-05-12 13:43:46,055 INFO sqlalchemy.engine.Engine [insertmanyvalues 5/5 (ordered; batch not supported)] ('J.K. Rowling',)\n",
      "2024-05-12 13:43:46,059 INFO sqlalchemy.engine.Engine INSERT INTO \"Books\" (\"Title\", \"AuthorID\") VALUES (?, ?) RETURNING \"BookID\"\n",
      "2024-05-12 13:43:46,060 INFO sqlalchemy.engine.Engine [generated in 0.00014s (insertmanyvalues) 1/9 (ordered; batch not supported)] ('Runaway', 1)\n",
      "2024-05-12 13:43:46,061 INFO sqlalchemy.engine.Engine INSERT INTO \"Books\" (\"Title\", \"AuthorID\") VALUES (?, ?) RETURNING \"BookID\"\n",
      "2024-05-12 13:43:46,062 INFO sqlalchemy.engine.Engine [insertmanyvalues 2/9 (ordered; batch not supported)] ('Half of a Yellow Sun', 2)\n",
      "2024-05-12 13:43:46,062 INFO sqlalchemy.engine.Engine INSERT INTO \"Books\" (\"Title\", \"AuthorID\") VALUES (?, ?) RETURNING \"BookID\"\n",
      "2024-05-12 13:43:46,063 INFO sqlalchemy.engine.Engine [insertmanyvalues 3/9 (ordered; batch not supported)] ('Americanah', 2)\n",
      "2024-05-12 13:43:46,064 INFO sqlalchemy.engine.Engine INSERT INTO \"Books\" (\"Title\", \"AuthorID\") VALUES (?, ?) RETURNING \"BookID\"\n",
      "2024-05-12 13:43:46,064 INFO sqlalchemy.engine.Engine [insertmanyvalues 4/9 (ordered; batch not supported)] ('One Hundred Years of Solitude', 3)\n",
      "2024-05-12 13:43:46,066 INFO sqlalchemy.engine.Engine INSERT INTO \"Books\" (\"Title\", \"AuthorID\") VALUES (?, ?) RETURNING \"BookID\"\n",
      "2024-05-12 13:43:46,067 INFO sqlalchemy.engine.Engine [insertmanyvalues 5/9 (ordered; batch not supported)] ('Love in the Time of Cholera', 3)\n",
      "2024-05-12 13:43:46,068 INFO sqlalchemy.engine.Engine INSERT INTO \"Books\" (\"Title\", \"AuthorID\") VALUES (?, ?) RETURNING \"BookID\"\n",
      "2024-05-12 13:43:46,068 INFO sqlalchemy.engine.Engine [insertmanyvalues 6/9 (ordered; batch not supported)] ('Norwegian Wood', 4)\n",
      "2024-05-12 13:43:46,069 INFO sqlalchemy.engine.Engine INSERT INTO \"Books\" (\"Title\", \"AuthorID\") VALUES (?, ?) RETURNING \"BookID\"\n",
      "2024-05-12 13:43:46,070 INFO sqlalchemy.engine.Engine [insertmanyvalues 7/9 (ordered; batch not supported)] ('Kafka on the Shore', 4)\n",
      "2024-05-12 13:43:46,071 INFO sqlalchemy.engine.Engine INSERT INTO \"Books\" (\"Title\", \"AuthorID\") VALUES (?, ?) RETURNING \"BookID\"\n",
      "2024-05-12 13:43:46,072 INFO sqlalchemy.engine.Engine [insertmanyvalues 8/9 (ordered; batch not supported)] (\"Harry Potter and the Sorcerer's Stone\", 5)\n",
      "2024-05-12 13:43:46,072 INFO sqlalchemy.engine.Engine INSERT INTO \"Books\" (\"Title\", \"AuthorID\") VALUES (?, ?) RETURNING \"BookID\"\n",
      "2024-05-12 13:43:46,073 INFO sqlalchemy.engine.Engine [insertmanyvalues 9/9 (ordered; batch not supported)] ('Harry Potter and the Chamber of Secrets', 5)\n",
      "2024-05-12 13:43:46,075 INFO sqlalchemy.engine.Engine COMMIT\n"
     ]
    }
   ],
   "source": [
    "# Using a context manager to handle the session\n",
    "with Session() as session:\n",
    "    session.add_all(authors + books)\n",
    "    session.commit()"
   ]
  },
  {
   "cell_type": "code",
   "execution_count": 8,
   "metadata": {},
   "outputs": [
    {
     "name": "stdout",
     "output_type": "stream",
     "text": [
      "2024-05-12 13:43:46,086 INFO sqlalchemy.engine.Engine BEGIN (implicit)\n",
      "2024-05-12 13:43:46,089 INFO sqlalchemy.engine.Engine SELECT \"Authors\".\"AuthorID\" AS \"Authors_AuthorID\", \"Authors\".\"Name\" AS \"Authors_Name\" \n",
      "FROM \"Authors\"\n",
      "2024-05-12 13:43:46,090 INFO sqlalchemy.engine.Engine [generated in 0.00112s] ()\n",
      "Author: 1 - Alice Munro\n",
      "2024-05-12 13:43:46,094 INFO sqlalchemy.engine.Engine SELECT \"Books\".\"BookID\" AS \"Books_BookID\", \"Books\".\"Title\" AS \"Books_Title\", \"Books\".\"AuthorID\" AS \"Books_AuthorID\" \n",
      "FROM \"Books\" \n",
      "WHERE ? = \"Books\".\"AuthorID\"\n",
      "2024-05-12 13:43:46,095 INFO sqlalchemy.engine.Engine [generated in 0.00105s] (1,)\n",
      " - Book: Runaway\n",
      "Author: 2 - Chimamanda Ngozi Adichie\n",
      "2024-05-12 13:43:46,098 INFO sqlalchemy.engine.Engine SELECT \"Books\".\"BookID\" AS \"Books_BookID\", \"Books\".\"Title\" AS \"Books_Title\", \"Books\".\"AuthorID\" AS \"Books_AuthorID\" \n",
      "FROM \"Books\" \n",
      "WHERE ? = \"Books\".\"AuthorID\"\n",
      "2024-05-12 13:43:46,099 INFO sqlalchemy.engine.Engine [cached since 0.004964s ago] (2,)\n",
      " - Book: Half of a Yellow Sun\n",
      " - Book: Americanah\n",
      "Author: 3 - Gabriel García Márquez\n",
      "2024-05-12 13:43:46,101 INFO sqlalchemy.engine.Engine SELECT \"Books\".\"BookID\" AS \"Books_BookID\", \"Books\".\"Title\" AS \"Books_Title\", \"Books\".\"AuthorID\" AS \"Books_AuthorID\" \n",
      "FROM \"Books\" \n",
      "WHERE ? = \"Books\".\"AuthorID\"\n",
      "2024-05-12 13:43:46,102 INFO sqlalchemy.engine.Engine [cached since 0.008394s ago] (3,)\n",
      " - Book: One Hundred Years of Solitude\n",
      " - Book: Love in the Time of Cholera\n",
      "Author: 4 - Haruki Murakami\n",
      "2024-05-12 13:43:46,107 INFO sqlalchemy.engine.Engine SELECT \"Books\".\"BookID\" AS \"Books_BookID\", \"Books\".\"Title\" AS \"Books_Title\", \"Books\".\"AuthorID\" AS \"Books_AuthorID\" \n",
      "FROM \"Books\" \n",
      "WHERE ? = \"Books\".\"AuthorID\"\n",
      "2024-05-12 13:43:46,108 INFO sqlalchemy.engine.Engine [cached since 0.01394s ago] (4,)\n",
      " - Book: Norwegian Wood\n",
      " - Book: Kafka on the Shore\n",
      "Author: 5 - J.K. Rowling\n",
      "2024-05-12 13:43:46,109 INFO sqlalchemy.engine.Engine SELECT \"Books\".\"BookID\" AS \"Books_BookID\", \"Books\".\"Title\" AS \"Books_Title\", \"Books\".\"AuthorID\" AS \"Books_AuthorID\" \n",
      "FROM \"Books\" \n",
      "WHERE ? = \"Books\".\"AuthorID\"\n",
      "2024-05-12 13:43:46,110 INFO sqlalchemy.engine.Engine [cached since 0.01643s ago] (5,)\n",
      " - Book: Harry Potter and the Sorcerer's Stone\n",
      " - Book: Harry Potter and the Chamber of Secrets\n",
      "2024-05-12 13:43:46,111 INFO sqlalchemy.engine.Engine ROLLBACK\n"
     ]
    }
   ],
   "source": [
    "# To verify insertion, print authors and their books\n",
    "with Session() as session:\n",
    "    for author in session.query(Author).all():\n",
    "        print(f\"Author: {author.AuthorID} - {author.Name}\")\n",
    "        for book in author.books:\n",
    "            print(f\" - Book: {book.Title}\")\n",
    "        "
   ]
  },
  {
   "cell_type": "markdown",
   "metadata": {},
   "source": [
    "# Workout On Retrieving Data"
   ]
  },
  {
   "cell_type": "markdown",
   "metadata": {},
   "source": [
    "## Retrieving All Authors"
   ]
  },
  {
   "cell_type": "code",
   "execution_count": 9,
   "metadata": {},
   "outputs": [
    {
     "name": "stdout",
     "output_type": "stream",
     "text": [
      "2024-05-12 13:43:46,121 INFO sqlalchemy.engine.Engine BEGIN (implicit)\n",
      "2024-05-12 13:43:46,123 INFO sqlalchemy.engine.Engine SELECT \"Authors\".\"AuthorID\" AS \"Authors_AuthorID\", \"Authors\".\"Name\" AS \"Authors_Name\" \n",
      "FROM \"Authors\"\n",
      "2024-05-12 13:43:46,124 INFO sqlalchemy.engine.Engine [cached since 0.03469s ago] ()\n",
      "Alice Munro\n",
      "Chimamanda Ngozi Adichie\n",
      "Gabriel García Márquez\n",
      "Haruki Murakami\n",
      "J.K. Rowling\n",
      "2024-05-12 13:43:46,125 INFO sqlalchemy.engine.Engine ROLLBACK\n"
     ]
    }
   ],
   "source": [
    "with Session() as session:\n",
    "    authors = session.query(Author).all()\n",
    "    for author in authors:\n",
    "        print(author.Name)"
   ]
  },
  {
   "cell_type": "markdown",
   "metadata": {},
   "source": [
    "## Retrieving All Books"
   ]
  },
  {
   "cell_type": "code",
   "execution_count": 10,
   "metadata": {},
   "outputs": [
    {
     "name": "stdout",
     "output_type": "stream",
     "text": [
      "2024-05-12 13:43:46,134 INFO sqlalchemy.engine.Engine BEGIN (implicit)\n",
      "2024-05-12 13:43:46,137 INFO sqlalchemy.engine.Engine SELECT \"Books\".\"BookID\" AS \"Books_BookID\", \"Books\".\"Title\" AS \"Books_Title\", \"Books\".\"AuthorID\" AS \"Books_AuthorID\" \n",
      "FROM \"Books\"\n",
      "2024-05-12 13:43:46,137 INFO sqlalchemy.engine.Engine [generated in 0.00101s] ()\n",
      "Runaway\n",
      "Half of a Yellow Sun\n",
      "Americanah\n",
      "One Hundred Years of Solitude\n",
      "Love in the Time of Cholera\n",
      "Norwegian Wood\n",
      "Kafka on the Shore\n",
      "Harry Potter and the Sorcerer's Stone\n",
      "Harry Potter and the Chamber of Secrets\n",
      "2024-05-12 13:43:46,139 INFO sqlalchemy.engine.Engine ROLLBACK\n"
     ]
    }
   ],
   "source": [
    "with Session() as session:\n",
    "    books = session.query(Book).all()\n",
    "    for book in books:\n",
    "        print(book.Title)"
   ]
  },
  {
   "cell_type": "markdown",
   "metadata": {},
   "source": [
    "## Retrieve Books by a Specific Author"
   ]
  },
  {
   "cell_type": "code",
   "execution_count": 11,
   "metadata": {},
   "outputs": [
    {
     "name": "stdout",
     "output_type": "stream",
     "text": [
      "2024-05-12 13:43:46,149 INFO sqlalchemy.engine.Engine BEGIN (implicit)\n",
      "2024-05-12 13:43:46,152 INFO sqlalchemy.engine.Engine SELECT \"Books\".\"BookID\" AS \"Books_BookID\", \"Books\".\"Title\" AS \"Books_Title\", \"Books\".\"AuthorID\" AS \"Books_AuthorID\" \n",
      "FROM \"Books\" JOIN \"Authors\" ON \"Authors\".\"AuthorID\" = \"Books\".\"AuthorID\" \n",
      "WHERE \"Authors\".\"Name\" = ?\n",
      "2024-05-12 13:43:46,152 INFO sqlalchemy.engine.Engine [generated in 0.00088s] ('J.K. Rowling',)\n",
      "2024-05-12 13:43:46,155 INFO sqlalchemy.engine.Engine SELECT \"Authors\".\"AuthorID\" AS \"Authors_AuthorID\", \"Authors\".\"Name\" AS \"Authors_Name\" \n",
      "FROM \"Authors\" \n",
      "WHERE \"Authors\".\"AuthorID\" = ?\n",
      "2024-05-12 13:43:46,155 INFO sqlalchemy.engine.Engine [generated in 0.00068s] (5,)\n",
      "Harry Potter and the Sorcerer's Stone by J.K. Rowling\n",
      "Harry Potter and the Chamber of Secrets by J.K. Rowling\n",
      "2024-05-12 13:43:46,157 INFO sqlalchemy.engine.Engine ROLLBACK\n"
     ]
    }
   ],
   "source": [
    "with Session() as session:\n",
    "    books = (session\n",
    "             .query(Book)\n",
    "             .join(Author)\n",
    "             .filter(Author.Name == 'J.K. Rowling')\n",
    "             .all())\n",
    "    for book in books:\n",
    "        print(f\"{book.Title} by {book.author.Name}\")"
   ]
  },
  {
   "cell_type": "code",
   "execution_count": 12,
   "metadata": {},
   "outputs": [
    {
     "name": "stdout",
     "output_type": "stream",
     "text": [
      "2024-05-12 13:43:46,167 INFO sqlalchemy.engine.Engine BEGIN (implicit)\n",
      "2024-05-12 13:43:46,170 INFO sqlalchemy.engine.Engine SELECT \"Books\".\"BookID\" AS \"Books_BookID\", \"Books\".\"Title\" AS \"Books_Title\", \"Books\".\"AuthorID\" AS \"Books_AuthorID\" \n",
      "FROM \"Books\" JOIN \"Authors\" ON \"Authors\".\"AuthorID\" = \"Books\".\"AuthorID\" \n",
      "WHERE (\"Authors\".\"Name\" LIKE '%' || ? || '%')\n",
      "2024-05-12 13:43:46,171 INFO sqlalchemy.engine.Engine [generated in 0.00139s] ('Haruki',)\n",
      "2024-05-12 13:43:46,174 INFO sqlalchemy.engine.Engine SELECT \"Authors\".\"AuthorID\" AS \"Authors_AuthorID\", \"Authors\".\"Name\" AS \"Authors_Name\" \n",
      "FROM \"Authors\" \n",
      "WHERE \"Authors\".\"AuthorID\" = ?\n",
      "2024-05-12 13:43:46,175 INFO sqlalchemy.engine.Engine [cached since 0.01997s ago] (4,)\n",
      "Norwegian Wood by Haruki Murakami\n",
      "Kafka on the Shore by Haruki Murakami\n",
      "2024-05-12 13:43:46,177 INFO sqlalchemy.engine.Engine ROLLBACK\n"
     ]
    }
   ],
   "source": [
    "# A more complex one, with the `contains` method\n",
    "with Session() as session:\n",
    "    books = (session\n",
    "             .query(Book)\n",
    "             .join(Author)\n",
    "             .filter(Author.Name.contains(\"Haruki\"))\n",
    "             .all())\n",
    "    for book in books:\n",
    "        print(f\"{book.Title} by {book.author.Name}\")"
   ]
  },
  {
   "cell_type": "markdown",
   "metadata": {},
   "source": [
    "## Query Books With Multiple Conditions"
   ]
  },
  {
   "cell_type": "code",
   "execution_count": 13,
   "metadata": {},
   "outputs": [
    {
     "name": "stdout",
     "output_type": "stream",
     "text": [
      "2024-05-12 13:43:46,191 INFO sqlalchemy.engine.Engine BEGIN (implicit)\n",
      "2024-05-12 13:43:46,195 INFO sqlalchemy.engine.Engine SELECT \"Books\".\"BookID\" AS \"Books_BookID\", \"Books\".\"Title\" AS \"Books_Title\", \"Books\".\"AuthorID\" AS \"Books_AuthorID\" \n",
      "FROM \"Books\" JOIN \"Authors\" ON \"Authors\".\"AuthorID\" = \"Books\".\"AuthorID\" \n",
      "WHERE (\"Books\".\"Title\" LIKE '%' || ? || '%') AND (\"Authors\".\"Name\" LIKE '%' || ? || '%')\n",
      "2024-05-12 13:43:46,196 INFO sqlalchemy.engine.Engine [generated in 0.00125s] ('The', 'Alice')\n",
      "2024-05-12 13:43:46,199 INFO sqlalchemy.engine.Engine ROLLBACK\n"
     ]
    }
   ],
   "source": [
    "with Session() as session:\n",
    "    books = (session\n",
    "             .query(Book)\n",
    "             .join(Author)\n",
    "             .filter(Book.Title.contains(\"The\"), Author.Name.contains(\"Alice\"))\n",
    "             .all())\n",
    "    for book in books:\n",
    "        print(f\"{book.Title} by {book.author.Name}\")"
   ]
  },
  {
   "cell_type": "markdown",
   "metadata": {},
   "source": [
    "## Find Authors Without Any Book"
   ]
  },
  {
   "cell_type": "code",
   "execution_count": 14,
   "metadata": {},
   "outputs": [
    {
     "name": "stdout",
     "output_type": "stream",
     "text": [
      "2024-05-12 13:43:46,215 INFO sqlalchemy.engine.Engine BEGIN (implicit)\n",
      "2024-05-12 13:43:46,218 INFO sqlalchemy.engine.Engine SELECT \"Authors\".\"AuthorID\" AS \"Authors_AuthorID\", \"Authors\".\"Name\" AS \"Authors_Name\" \n",
      "FROM \"Authors\" LEFT OUTER JOIN \"Books\" ON \"Authors\".\"AuthorID\" = \"Books\".\"AuthorID\" \n",
      "WHERE \"Books\".\"BookID\" IS NULL\n",
      "2024-05-12 13:43:46,220 INFO sqlalchemy.engine.Engine [generated in 0.00180s] ()\n",
      "2024-05-12 13:43:46,221 INFO sqlalchemy.engine.Engine ROLLBACK\n"
     ]
    }
   ],
   "source": [
    "with Session() as session:\n",
    "    authors_without_books = (session\n",
    "                             .query(Author)\n",
    "                             .outerjoin(Book, Author.books)\n",
    "                             .filter(Book.BookID == None)\n",
    "                             .all())\n",
    "    for author in authors_without_books:\n",
    "        print(author.Name)"
   ]
  },
  {
   "cell_type": "markdown",
   "metadata": {},
   "source": [
    "# Introspection"
   ]
  },
  {
   "cell_type": "markdown",
   "metadata": {},
   "source": [
    "## Using Reflection"
   ]
  },
  {
   "cell_type": "markdown",
   "metadata": {},
   "source": [
    "Reflection in SQLAlchemy is a process of loading table information directly from the database into SQLAlchemy metadata.\n",
    "\n",
    "This can be extremely useful for generating model classes from an existing database."
   ]
  },
  {
   "cell_type": "code",
   "execution_count": 15,
   "metadata": {},
   "outputs": [],
   "source": [
    "from sqlalchemy import MetaData\n",
    "from sqlalchemy.schema import Table"
   ]
  },
  {
   "cell_type": "code",
   "execution_count": 17,
   "metadata": {},
   "outputs": [],
   "source": [
    "# Create a MetaData instance\n",
    "metadata = MetaData()"
   ]
  },
  {
   "cell_type": "code",
   "execution_count": 22,
   "metadata": {},
   "outputs": [
    {
     "name": "stdout",
     "output_type": "stream",
     "text": [
      "2024-05-12 13:50:52,773 INFO sqlalchemy.engine.Engine BEGIN (implicit)\n",
      "2024-05-12 13:50:52,774 INFO sqlalchemy.engine.Engine PRAGMA main.table_xinfo(\"Books\")\n",
      "2024-05-12 13:50:52,776 INFO sqlalchemy.engine.Engine [raw sql] ()\n",
      "2024-05-12 13:50:52,777 INFO sqlalchemy.engine.Engine SELECT sql FROM  (SELECT * FROM sqlite_master UNION ALL   SELECT * FROM sqlite_temp_master) WHERE name = ? AND type in ('table', 'view')\n",
      "2024-05-12 13:50:52,779 INFO sqlalchemy.engine.Engine [raw sql] ('Books',)\n",
      "2024-05-12 13:50:52,780 INFO sqlalchemy.engine.Engine PRAGMA main.foreign_key_list(\"Books\")\n",
      "2024-05-12 13:50:52,781 INFO sqlalchemy.engine.Engine [raw sql] ()\n",
      "2024-05-12 13:50:52,782 INFO sqlalchemy.engine.Engine SELECT sql FROM  (SELECT * FROM sqlite_master UNION ALL   SELECT * FROM sqlite_temp_master) WHERE name = ? AND type in ('table', 'view')\n",
      "2024-05-12 13:50:52,782 INFO sqlalchemy.engine.Engine [raw sql] ('Books',)\n",
      "2024-05-12 13:50:52,783 INFO sqlalchemy.engine.Engine PRAGMA main.index_list(\"Books\")\n",
      "2024-05-12 13:50:52,784 INFO sqlalchemy.engine.Engine [raw sql] ()\n",
      "2024-05-12 13:50:52,785 INFO sqlalchemy.engine.Engine PRAGMA temp.index_list(\"Books\")\n",
      "2024-05-12 13:50:52,786 INFO sqlalchemy.engine.Engine [raw sql] ()\n",
      "2024-05-12 13:50:52,787 INFO sqlalchemy.engine.Engine PRAGMA main.table_info(\"Books\")\n",
      "2024-05-12 13:50:52,788 INFO sqlalchemy.engine.Engine [raw sql] ()\n",
      "2024-05-12 13:50:52,789 INFO sqlalchemy.engine.Engine PRAGMA main.index_list(\"Books\")\n",
      "2024-05-12 13:50:52,790 INFO sqlalchemy.engine.Engine [raw sql] ()\n",
      "2024-05-12 13:50:52,792 INFO sqlalchemy.engine.Engine PRAGMA temp.index_list(\"Books\")\n",
      "2024-05-12 13:50:52,793 INFO sqlalchemy.engine.Engine [raw sql] ()\n",
      "2024-05-12 13:50:52,794 INFO sqlalchemy.engine.Engine PRAGMA main.table_info(\"Books\")\n",
      "2024-05-12 13:50:52,795 INFO sqlalchemy.engine.Engine [raw sql] ()\n",
      "2024-05-12 13:50:52,796 INFO sqlalchemy.engine.Engine SELECT sql FROM  (SELECT * FROM sqlite_master UNION ALL   SELECT * FROM sqlite_temp_master) WHERE name = ? AND type in ('table', 'view')\n",
      "2024-05-12 13:50:52,797 INFO sqlalchemy.engine.Engine [raw sql] ('Books',)\n",
      "2024-05-12 13:50:52,800 INFO sqlalchemy.engine.Engine ROLLBACK\n"
     ]
    }
   ],
   "source": [
    "# Reflect an existing table\n",
    "books_table = Table('Books', metadata, autoload_with=engine)"
   ]
  },
  {
   "cell_type": "code",
   "execution_count": 23,
   "metadata": {},
   "outputs": [
    {
     "name": "stdout",
     "output_type": "stream",
     "text": [
      "['BookID', 'Title', 'AuthorID']\n",
      "{ForeignKey('Authors.AuthorID')}\n"
     ]
    }
   ],
   "source": [
    "# Access table details\n",
    "print(books_table.columns.keys())\n",
    "print(books_table.foreign_keys)"
   ]
  },
  {
   "cell_type": "markdown",
   "metadata": {},
   "source": [
    "Some introspection may involve exploring the `books_table` attributes..."
   ]
  },
  {
   "cell_type": "code",
   "execution_count": 25,
   "metadata": {},
   "outputs": [
    {
     "data": {
      "text/plain": [
       "['add_is_dependent_on',\n",
       " 'alias',\n",
       " 'allows_lambda',\n",
       " 'append_column',\n",
       " 'append_constraint',\n",
       " 'argument_for',\n",
       " 'autoincrement_column',\n",
       " 'c',\n",
       " 'columns',\n",
       " 'comment',\n",
       " 'compare',\n",
       " 'compile',\n",
       " 'constraints',\n",
       " 'corresponding_column',\n",
       " 'create',\n",
       " 'create_drop_stringify_dialect',\n",
       " 'delete',\n",
       " 'description',\n",
       " 'dialect_kwargs',\n",
       " 'dialect_options',\n",
       " 'dispatch',\n",
       " 'drop',\n",
       " 'entity_namespace',\n",
       " 'exported_columns',\n",
       " 'foreign_key_constraints',\n",
       " 'foreign_keys',\n",
       " 'fullname',\n",
       " 'get_children',\n",
       " 'implicit_returning',\n",
       " 'indexes',\n",
       " 'info',\n",
       " 'inherit_cache',\n",
       " 'insert',\n",
       " 'is_clause_element',\n",
       " 'is_derived_from',\n",
       " 'is_dml',\n",
       " 'is_selectable',\n",
       " 'join',\n",
       " 'key',\n",
       " 'kwargs',\n",
       " 'lateral',\n",
       " 'memoized_attribute',\n",
       " 'memoized_instancemethod',\n",
       " 'metadata',\n",
       " 'name',\n",
       " 'named_with_column',\n",
       " 'outerjoin',\n",
       " 'params',\n",
       " 'primary_key',\n",
       " 'replace_selectable',\n",
       " 'schema',\n",
       " 'select',\n",
       " 'selectable',\n",
       " 'self_group',\n",
       " 'stringify_dialect',\n",
       " 'supports_execution',\n",
       " 'table_valued',\n",
       " 'tablesample',\n",
       " 'to_metadata',\n",
       " 'tometadata',\n",
       " 'unique_params',\n",
       " 'update',\n",
       " 'uses_inspection']"
      ]
     },
     "execution_count": 25,
     "metadata": {},
     "output_type": "execute_result"
    }
   ],
   "source": [
    "[attr for attr in dir(books_table) if attr[0] != '_']"
   ]
  },
  {
   "cell_type": "markdown",
   "metadata": {},
   "source": [
    "# Close the Connection"
   ]
  },
  {
   "cell_type": "code",
   "execution_count": 15,
   "metadata": {},
   "outputs": [],
   "source": [
    "engine.dispose()"
   ]
  },
  {
   "cell_type": "markdown",
   "metadata": {},
   "source": []
  }
 ],
 "metadata": {
  "kernelspec": {
   "display_name": ".venv",
   "language": "python",
   "name": "python3"
  },
  "language_info": {
   "codemirror_mode": {
    "name": "ipython",
    "version": 3
   },
   "file_extension": ".py",
   "mimetype": "text/x-python",
   "name": "python",
   "nbconvert_exporter": "python",
   "pygments_lexer": "ipython3",
   "version": "3.11.2"
  }
 },
 "nbformat": 4,
 "nbformat_minor": 2
}
